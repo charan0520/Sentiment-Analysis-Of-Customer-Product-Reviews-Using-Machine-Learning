{
 "cells": [
  {
   "cell_type": "markdown",
   "id": "250588c6-b96a-4fa3-a386-766367f43188",
   "metadata": {},
   "source": [
    "# **SENTIMENT ANALYSIS**\n",
    "Sentiment analysis, or opinion mining, is the process of analyzing large volumes of text to determine whether it expresses a positive sentiment, a negative sentiment or a neutral sentiment. Sentiment analysis enables companies with vast troves of unstructured data to analyze and extract meaningful insights from it quickly and efficiently. Sentiment analysis uses natural language processing (NLP) and machine learning (ML) technologies to train computer software to analyze and interpret text in a way similar to humans. The software uses one of two approaches, rule-based or ML—or a combination of the two known as hybrid."
   ]
  },
  {
   "cell_type": "markdown",
   "id": "d15169b9-3ebd-497c-9080-d6f2815a9074",
   "metadata": {},
   "source": [
    "### **Importing Libraries**"
   ]
  },
  {
   "cell_type": "code",
   "execution_count": 8,
   "id": "72542640-58c9-44a4-8817-6d06b1e14531",
   "metadata": {},
   "outputs": [],
   "source": [
    "import numpy as np\n",
    "import pandas as pd\n",
    "import re\n",
    "import nltk\n",
    "import warnings\n",
    "import matplotlib.pyplot as plt\n",
    "import seaborn as sns\n",
    "from sklearn.model_selection import train_test_split\n",
    "from sklearn.preprocessing import LabelEncoder\n",
    "from sklearn.feature_extraction.text import TfidfVectorizer\n",
    "from sklearn.naive_bayes import MultinomialNB\n",
    "from sklearn.linear_model import LogisticRegression\n",
    "from sklearn.metrics import accuracy_score, confusion_matrix, classification_report\n",
    "from nltk.corpus import stopwords\n",
    "%matplotlib inline\n",
    "warnings.filterwarnings('ignore')"
   ]
  },
  {
   "cell_type": "markdown",
   "id": "c0fd8c8c-5589-48e9-a849-4ca749c89cce",
   "metadata": {},
   "source": [
    "### **Importing Dataset**\n",
    "*'Amazon_Unlocked_Mobile.csv'* is publicly available dataset with 'CC0: Public Domain' license which is available on kaggle.com, it has over 400 thousand reviews of unlocked mobile phones sold on Amazon.com to find out insights with respect to reviews, ratings, price and their relationships.\n",
    "Link: https://www.kaggle.com/datasets/PromptCloudHQ/amazon-reviews-unlocked-mobile-phones/data"
   ]
  },
  {
   "cell_type": "code",
   "execution_count": 9,
   "id": "ada552d6-be10-40a1-91f1-669bffbaab4a",
   "metadata": {},
   "outputs": [
    {
     "data": {
      "text/plain": [
       "(413840, 6)"
      ]
     },
     "execution_count": 9,
     "metadata": {},
     "output_type": "execute_result"
    }
   ],
   "source": [
    "df = pd.read_csv(\"./Amazon_Unlocked_Mobile.csv\")\n",
    "df.shape"
   ]
  },
  {
   "cell_type": "markdown",
   "id": "e30ef26e-13e7-4eac-901b-fd535c676e8c",
   "metadata": {},
   "source": [
    "### **Data Exploration and Data Preprocessing**\n",
    "We will conduct a sentiment analysis of the product reviews using 'Reviews' and 'Ratings' as our basis. Generally, higher ratings indicate a positive sentiment, while lower ratings suggest a negative one. For our analysis, we will classify ratings of 4 or 5 as positive and ratings of 1, 2, or 3 as negative. It's important to note that reviews may contain both positive and negative sentiments. We will create a df['Sentiment'] field based on this classification to build a machine learning model using algorithms such as Naive Bayes.\""
   ]
  },
  {
   "cell_type": "code",
   "execution_count": 10,
   "id": "a73c1095-f01a-4451-b254-433760634274",
   "metadata": {},
   "outputs": [
    {
     "data": {
      "text/html": [
       "<div>\n",
       "<style scoped>\n",
       "    .dataframe tbody tr th:only-of-type {\n",
       "        vertical-align: middle;\n",
       "    }\n",
       "\n",
       "    .dataframe tbody tr th {\n",
       "        vertical-align: top;\n",
       "    }\n",
       "\n",
       "    .dataframe thead th {\n",
       "        text-align: right;\n",
       "    }\n",
       "</style>\n",
       "<table border=\"1\" class=\"dataframe\">\n",
       "  <thead>\n",
       "    <tr style=\"text-align: right;\">\n",
       "      <th></th>\n",
       "      <th>Product Name</th>\n",
       "      <th>Brand Name</th>\n",
       "      <th>Price</th>\n",
       "      <th>Rating</th>\n",
       "      <th>Reviews</th>\n",
       "      <th>Review Votes</th>\n",
       "    </tr>\n",
       "  </thead>\n",
       "  <tbody>\n",
       "    <tr>\n",
       "      <th>5362</th>\n",
       "      <td>Apple iPhone 3GS 16GB (White) - AT&amp;T</td>\n",
       "      <td>Apple</td>\n",
       "      <td>53.00</td>\n",
       "      <td>1</td>\n",
       "      <td>First of all the phone was not an iPhone 3GS ,...</td>\n",
       "      <td>0.0</td>\n",
       "    </tr>\n",
       "    <tr>\n",
       "      <th>316359</th>\n",
       "      <td>Samsung Galaxy J5 J500M 8GB Unlocked GSM 4G LT...</td>\n",
       "      <td>Samsung</td>\n",
       "      <td>177.49</td>\n",
       "      <td>5</td>\n",
       "      <td>I absolutely love my J5. I got in Gold and it'...</td>\n",
       "      <td>1.0</td>\n",
       "    </tr>\n",
       "    <tr>\n",
       "      <th>358064</th>\n",
       "      <td>Samsung Galaxy S5 SM-G900H 16GB Factory Unlock...</td>\n",
       "      <td>Samsung</td>\n",
       "      <td>369.99</td>\n",
       "      <td>5</td>\n",
       "      <td>The package arrived at a very fast rate and pr...</td>\n",
       "      <td>0.0</td>\n",
       "    </tr>\n",
       "    <tr>\n",
       "      <th>55251</th>\n",
       "      <td>Apple iPhone 6 Plus 128GB Factory Unlocked GSM...</td>\n",
       "      <td>NaN</td>\n",
       "      <td>699.95</td>\n",
       "      <td>5</td>\n",
       "      <td>The large screen with the accesibilites option...</td>\n",
       "      <td>0.0</td>\n",
       "    </tr>\n",
       "    <tr>\n",
       "      <th>352555</th>\n",
       "      <td>Samsung Galaxy S5 Mini G800h 16gb Hspa+ Unlock...</td>\n",
       "      <td>Samsung</td>\n",
       "      <td>2000.00</td>\n",
       "      <td>3</td>\n",
       "      <td>This is NOT dual sim like I thought when purch...</td>\n",
       "      <td>0.0</td>\n",
       "    </tr>\n",
       "    <tr>\n",
       "      <th>378703</th>\n",
       "      <td>Samsung Knack U310 Flip Phone for Verizon Wire...</td>\n",
       "      <td>Samsung</td>\n",
       "      <td>259.99</td>\n",
       "      <td>5</td>\n",
       "      <td>Good replacement phone</td>\n",
       "      <td>0.0</td>\n",
       "    </tr>\n",
       "    <tr>\n",
       "      <th>241980</th>\n",
       "      <td>Mophie Juice Pack Helium Charging Case - iPhone 5</td>\n",
       "      <td>mophie</td>\n",
       "      <td>64.26</td>\n",
       "      <td>5</td>\n",
       "      <td>Protects the phone and almost doubles the up-t...</td>\n",
       "      <td>3.0</td>\n",
       "    </tr>\n",
       "    <tr>\n",
       "      <th>161886</th>\n",
       "      <td>BLU VIVO 5R Refresh Smartphone - 5.5-Inch Disp...</td>\n",
       "      <td>BLU</td>\n",
       "      <td>199.95</td>\n",
       "      <td>5</td>\n",
       "      <td>Amazing phone has everything you need from a $...</td>\n",
       "      <td>1.0</td>\n",
       "    </tr>\n",
       "    <tr>\n",
       "      <th>256423</th>\n",
       "      <td>Motorola RAZR V3 Unlocked Phone with Camera, a...</td>\n",
       "      <td>Motorola</td>\n",
       "      <td>45.00</td>\n",
       "      <td>5</td>\n",
       "      <td>Was happy with the product and delivered on ti...</td>\n",
       "      <td>0.0</td>\n",
       "    </tr>\n",
       "    <tr>\n",
       "      <th>85585</th>\n",
       "      <td>Blackberry 9320 Curve Unlocked GSM Quad-Band S...</td>\n",
       "      <td>BlackBerry</td>\n",
       "      <td>49.88</td>\n",
       "      <td>5</td>\n",
       "      <td>nnnm mmnmm mnmnm mnnm mnmnm mnmnmn mnmnmn mnn ...</td>\n",
       "      <td>0.0</td>\n",
       "    </tr>\n",
       "  </tbody>\n",
       "</table>\n",
       "</div>"
      ],
      "text/plain": [
       "                                             Product Name  Brand Name  \\\n",
       "5362                 Apple iPhone 3GS 16GB (White) - AT&T       Apple   \n",
       "316359  Samsung Galaxy J5 J500M 8GB Unlocked GSM 4G LT...     Samsung   \n",
       "358064  Samsung Galaxy S5 SM-G900H 16GB Factory Unlock...     Samsung   \n",
       "55251   Apple iPhone 6 Plus 128GB Factory Unlocked GSM...         NaN   \n",
       "352555  Samsung Galaxy S5 Mini G800h 16gb Hspa+ Unlock...     Samsung   \n",
       "378703  Samsung Knack U310 Flip Phone for Verizon Wire...     Samsung   \n",
       "241980  Mophie Juice Pack Helium Charging Case - iPhone 5      mophie   \n",
       "161886  BLU VIVO 5R Refresh Smartphone - 5.5-Inch Disp...         BLU   \n",
       "256423  Motorola RAZR V3 Unlocked Phone with Camera, a...    Motorola   \n",
       "85585   Blackberry 9320 Curve Unlocked GSM Quad-Band S...  BlackBerry   \n",
       "\n",
       "          Price  Rating                                            Reviews  \\\n",
       "5362      53.00       1  First of all the phone was not an iPhone 3GS ,...   \n",
       "316359   177.49       5  I absolutely love my J5. I got in Gold and it'...   \n",
       "358064   369.99       5  The package arrived at a very fast rate and pr...   \n",
       "55251    699.95       5  The large screen with the accesibilites option...   \n",
       "352555  2000.00       3  This is NOT dual sim like I thought when purch...   \n",
       "378703   259.99       5                             Good replacement phone   \n",
       "241980    64.26       5  Protects the phone and almost doubles the up-t...   \n",
       "161886   199.95       5  Amazing phone has everything you need from a $...   \n",
       "256423    45.00       5  Was happy with the product and delivered on ti...   \n",
       "85585     49.88       5  nnnm mmnmm mnmnm mnnm mnmnm mnmnmn mnmnmn mnn ...   \n",
       "\n",
       "        Review Votes  \n",
       "5362             0.0  \n",
       "316359           1.0  \n",
       "358064           0.0  \n",
       "55251            0.0  \n",
       "352555           0.0  \n",
       "378703           0.0  \n",
       "241980           3.0  \n",
       "161886           1.0  \n",
       "256423           0.0  \n",
       "85585            0.0  "
      ]
     },
     "execution_count": 10,
     "metadata": {},
     "output_type": "execute_result"
    }
   ],
   "source": [
    "df.sample(10)"
   ]
  },
  {
   "cell_type": "code",
   "execution_count": 11,
   "id": "62722a96-aa75-4d90-b2f8-d509ad424940",
   "metadata": {},
   "outputs": [
    {
     "name": "stdout",
     "output_type": "stream",
     "text": [
      "<class 'pandas.core.frame.DataFrame'>\n",
      "RangeIndex: 413840 entries, 0 to 413839\n",
      "Data columns (total 6 columns):\n",
      " #   Column        Non-Null Count   Dtype  \n",
      "---  ------        --------------   -----  \n",
      " 0   Product Name  413840 non-null  object \n",
      " 1   Brand Name    348669 non-null  object \n",
      " 2   Price         407907 non-null  float64\n",
      " 3   Rating        413840 non-null  int64  \n",
      " 4   Reviews       413770 non-null  object \n",
      " 5   Review Votes  401544 non-null  float64\n",
      "dtypes: float64(2), int64(1), object(3)\n",
      "memory usage: 18.9+ MB\n"
     ]
    }
   ],
   "source": [
    "#Before Data CLeaning\n",
    "df.info()"
   ]
  },
  {
   "cell_type": "code",
   "execution_count": 12,
   "id": "36bc6b45-abd5-4d82-824f-cb4034369f7a",
   "metadata": {},
   "outputs": [
    {
     "data": {
      "text/plain": [
       "Product Name        0\n",
       "Brand Name      65171\n",
       "Price            5933\n",
       "Rating              0\n",
       "Reviews            70\n",
       "Review Votes    12296\n",
       "dtype: int64"
      ]
     },
     "execution_count": 12,
     "metadata": {},
     "output_type": "execute_result"
    }
   ],
   "source": [
    "df.isnull().sum()"
   ]
  },
  {
   "cell_type": "markdown",
   "id": "faf4379e-433e-477e-a7dd-202be95c1813",
   "metadata": {},
   "source": [
    "### __*Data Cleaning Strategy*__\n",
    "Column 'Product Name' and 'Ratings' have no null values so leave them as is. Only 348669 have value in column 'Brand Name', replace null values in the column with 'Unknown'. Replace null values in 'Review Votes' column with 0. Replace null values in Price column with average price of that brand. Ratings and Reviews are critical in sentiment analysis. Therefore drop the rows which have null values in those columns."
   ]
  },
  {
   "cell_type": "code",
   "execution_count": 13,
   "id": "937d37e4-9620-48bb-befb-97600bed05c9",
   "metadata": {},
   "outputs": [],
   "source": [
    "#df['Brand Name'].fillna('Unknown', inplace=True)\n",
    "#df['Review Votes'].fillna(0, inplace=True)\n",
    "df.fillna({'Brand Name':'Unknown'},inplace = True)\n",
    "df.fillna({'Review Votes':0},inplace = True)\n",
    "average_price = df.groupby('Brand Name')['Price'].mean()\n",
    "df['Price'] = df.apply(lambda row: average_price[row['Brand Name']] if pd.isna(row['Price']) else row['Price'], axis=1)\n",
    "df['Brand Name'] = df['Brand Name'].apply(lambda x: x.lower())\n",
    "df.dropna(inplace=True)"
   ]
  },
  {
   "cell_type": "code",
   "execution_count": 14,
   "id": "afea0573-9f37-4b62-8835-9ee3676abd07",
   "metadata": {},
   "outputs": [
    {
     "name": "stdout",
     "output_type": "stream",
     "text": [
      "<class 'pandas.core.frame.DataFrame'>\n",
      "Index: 413581 entries, 0 to 413839\n",
      "Data columns (total 6 columns):\n",
      " #   Column        Non-Null Count   Dtype  \n",
      "---  ------        --------------   -----  \n",
      " 0   Product Name  413581 non-null  object \n",
      " 1   Brand Name    413581 non-null  object \n",
      " 2   Price         413581 non-null  float64\n",
      " 3   Rating        413581 non-null  int64  \n",
      " 4   Reviews       413581 non-null  object \n",
      " 5   Review Votes  413581 non-null  float64\n",
      "dtypes: float64(2), int64(1), object(3)\n",
      "memory usage: 22.1+ MB\n"
     ]
    }
   ],
   "source": [
    "#After Data Cleaning\n",
    "df.info()"
   ]
  },
  {
   "cell_type": "code",
   "execution_count": 15,
   "id": "0fa11124-ea46-4fb3-9d2f-c11b50b93a42",
   "metadata": {},
   "outputs": [
    {
     "data": {
      "text/plain": [
       "Product Name    0\n",
       "Brand Name      0\n",
       "Price           0\n",
       "Rating          0\n",
       "Reviews         0\n",
       "Review Votes    0\n",
       "dtype: int64"
      ]
     },
     "execution_count": 15,
     "metadata": {},
     "output_type": "execute_result"
    }
   ],
   "source": [
    "df.isnull().sum()"
   ]
  },
  {
   "cell_type": "code",
   "execution_count": 16,
   "id": "86938447-5bb2-4dda-9cd6-d800c5bf4ca0",
   "metadata": {},
   "outputs": [
    {
     "data": {
      "text/html": [
       "<div>\n",
       "<style scoped>\n",
       "    .dataframe tbody tr th:only-of-type {\n",
       "        vertical-align: middle;\n",
       "    }\n",
       "\n",
       "    .dataframe tbody tr th {\n",
       "        vertical-align: top;\n",
       "    }\n",
       "\n",
       "    .dataframe thead th {\n",
       "        text-align: right;\n",
       "    }\n",
       "</style>\n",
       "<table border=\"1\" class=\"dataframe\">\n",
       "  <thead>\n",
       "    <tr style=\"text-align: right;\">\n",
       "      <th></th>\n",
       "      <th>Price</th>\n",
       "      <th>Rating</th>\n",
       "      <th>Review Votes</th>\n",
       "    </tr>\n",
       "  </thead>\n",
       "  <tbody>\n",
       "    <tr>\n",
       "      <th>count</th>\n",
       "      <td>413581.000000</td>\n",
       "      <td>413581.000000</td>\n",
       "      <td>413581.000000</td>\n",
       "    </tr>\n",
       "    <tr>\n",
       "      <th>mean</th>\n",
       "      <td>227.103068</td>\n",
       "      <td>3.820163</td>\n",
       "      <td>1.461523</td>\n",
       "    </tr>\n",
       "    <tr>\n",
       "      <th>std</th>\n",
       "      <td>271.227009</td>\n",
       "      <td>1.547895</td>\n",
       "      <td>9.030771</td>\n",
       "    </tr>\n",
       "    <tr>\n",
       "      <th>min</th>\n",
       "      <td>1.730000</td>\n",
       "      <td>1.000000</td>\n",
       "      <td>0.000000</td>\n",
       "    </tr>\n",
       "    <tr>\n",
       "      <th>25%</th>\n",
       "      <td>79.990000</td>\n",
       "      <td>3.000000</td>\n",
       "      <td>0.000000</td>\n",
       "    </tr>\n",
       "    <tr>\n",
       "      <th>50%</th>\n",
       "      <td>149.350000</td>\n",
       "      <td>5.000000</td>\n",
       "      <td>0.000000</td>\n",
       "    </tr>\n",
       "    <tr>\n",
       "      <th>75%</th>\n",
       "      <td>269.990000</td>\n",
       "      <td>5.000000</td>\n",
       "      <td>1.000000</td>\n",
       "    </tr>\n",
       "    <tr>\n",
       "      <th>max</th>\n",
       "      <td>2598.000000</td>\n",
       "      <td>5.000000</td>\n",
       "      <td>645.000000</td>\n",
       "    </tr>\n",
       "  </tbody>\n",
       "</table>\n",
       "</div>"
      ],
      "text/plain": [
       "               Price         Rating   Review Votes\n",
       "count  413581.000000  413581.000000  413581.000000\n",
       "mean      227.103068       3.820163       1.461523\n",
       "std       271.227009       1.547895       9.030771\n",
       "min         1.730000       1.000000       0.000000\n",
       "25%        79.990000       3.000000       0.000000\n",
       "50%       149.350000       5.000000       0.000000\n",
       "75%       269.990000       5.000000       1.000000\n",
       "max      2598.000000       5.000000     645.000000"
      ]
     },
     "execution_count": 16,
     "metadata": {},
     "output_type": "execute_result"
    }
   ],
   "source": [
    "df.describe()"
   ]
  },
  {
   "cell_type": "code",
   "execution_count": 17,
   "id": "a5fe2ab1-9829-407c-bf4e-bf4e053da6b0",
   "metadata": {},
   "outputs": [
    {
     "data": {
      "image/png": "[encoded data removed]",
      "text/plain": [
       "<Figure size 1500x600 with 1 Axes>"
      ]
     },
     "metadata": {},
     "output_type": "display_data"
    }
   ],
   "source": [
    "plt.figure(figsize = (15,6))\n",
    "sns.countplot(x=df['Rating'])\n",
    "\n",
    "plt.title('Distribution of Ratings',fontsize=14)\n",
    "plt.grid(True, which = 'Major' ,axis = 'y', linestyle ='--', linewidth = 0.7)"
   ]
  },
  {
   "cell_type": "markdown",
   "id": "9e9addde-bd79-4a7b-a219-a7352268977d",
   "metadata": {},
   "source": [
    "**The rating distribution chart shows a strong positive skew, with the majority of reviews being 5-star, indicating that most users rated products highly. There is a noticeable but much smaller portion of 1-star ratings, reflecting a significant number of dissatisfied customers. Ratings of 4-stars are present but are fewer in comparison to 5-stars, and the 2-star and 3-star ratings are the least frequent, suggesting that users tend to have polarized opinions rather than moderate ones(either very positive or very negative).**"
   ]
  },
  {
   "cell_type": "code",
   "execution_count": 18,
   "id": "1fba6386-44b1-4cdd-9bf3-88ae73289047",
   "metadata": {},
   "outputs": [
    {
     "data": {
      "image/png": "[encoded data removed]",
      "text/plain": [
       "<Figure size 1500x600 with 1 Axes>"
      ]
     },
     "metadata": {},
     "output_type": "display_data"
    }
   ],
   "source": [
    "plt.figure(figsize = (15,6))\n",
    "sns.histplot(x=df['Rating'], y = df['Price'])\n",
    "\n",
    "plt.title('Visualizing Product Ratings in Relation to Price',fontsize=14)\n",
    "plt.grid(True, which = 'Major' ,axis = 'y', linestyle ='--', linewidth = 0.7)\n",
    "plt.show()"
   ]
  },
  {
   "cell_type": "markdown",
   "id": "46ad0142-8d62-4daf-ad8a-7d2a983130bb",
   "metadata": {},
   "source": [
    "**The scatter plot shows no strong correlation between product price and rating. Most products, regardless of rating, are priced below $500. Higher-priced items are scattered across all rating levels, indicating that price does not strongly influence product rating in this dataset.**"
   ]
  },
  {
   "cell_type": "code",
   "execution_count": 19,
   "id": "e71fa620-683d-419e-b396-ae5a9abe5058",
   "metadata": {},
   "outputs": [
    {
     "data": {
      "image/png": "[encoded data removed]",
      "text/plain": [
       "<Figure size 500x400 with 2 Axes>"
      ]
     },
     "metadata": {},
     "output_type": "display_data"
    }
   ],
   "source": [
    "corr_col = ['Price','Rating']\n",
    "df_corr = df[corr_col]\n",
    "label_encoder = LabelEncoder()\n",
    "df_corr['Brand Name'] = label_encoder.fit_transform(df['Brand Name'])\n",
    "corr = df_corr.corr()\n",
    "\n",
    "plt.figure(figsize=(5,4))\n",
    "sns.heatmap(corr,annot = True, cmap = 'viridis')\n",
    "plt.title('Correlation Matrix of Price, Rating, and Brand Name Encoded', fontsize=14)\n",
    "plt.show()"
   ]
  },
  {
   "cell_type": "markdown",
   "id": "833eb4aa-6c40-4b97-a567-339c12affc28",
   "metadata": {},
   "source": [
    "This correlation matrix shows the relationships between \"Price,\" \"Rating,\" and \"Brand Name\":\n",
    "1. Price and Rating (0.074): The correlation between Price and Rating is low (close to zero), indicating a weak or negligible relationship. This suggests that the price of the product does not significantly impact the rating given by customers in this dataset. People may give high or low ratings regardless of the product’s price.\n",
    "\n",
    "2. Price and Brand Name (0.012): The correlation between Price and Brand Name is almost zero, meaning there's essentially no relationship between the price and the brand names encoded. In other words, brand identity (as encoded here) doesn't seem to drive significant differences in price.\n",
    "\n",
    "3. Rating and Brand Name (0.022): The correlation between Rating and Brand Name is also very low. This implies that customer ratings are not strongly influenced by the brand (at least as represented in this encoding). Customers rate products independently of brand identity in this dataset.\n",
    "\n",
    "**All correlation values are close to zero, indicating minimal linear relationships between these variables. This analysis suggests that factors like Price and Brand Name don't have a strong direct impact on Ratings in this dataset. Customer ratings seem to depend more on product reviews in 'Reviews' column**"
   ]
  },
  {
   "cell_type": "markdown",
   "id": "0e5de028-5a80-4813-a909-c162fa54fb5e",
   "metadata": {},
   "source": [
    "### **_Data Preprocessing_**\n",
    "We will conduct a sentiment analysis of the product reviews using 'Reviews' and 'Ratings' as our basis. Generally, higher ratings indicate a positive sentiment, while lower ratings suggest a negative one. For our analysis, we will classify ratings of 4 or 5 as positive and ratings of 1, 2, or 3 as negative. It's important to note that reviews may contain both positive(1) and negative(0) sentiments. We will create a df['Sentiment'] field based on this classification to build a machine learning model using algorithms such as Naive Bayes."
   ]
  },
  {
   "cell_type": "code",
   "execution_count": 20,
   "id": "f28ec0b1-6833-404f-ae42-98eceeaccce8",
   "metadata": {},
   "outputs": [
    {
     "data": {
      "text/html": [
       "<div>\n",
       "<style scoped>\n",
       "    .dataframe tbody tr th:only-of-type {\n",
       "        vertical-align: middle;\n",
       "    }\n",
       "\n",
       "    .dataframe tbody tr th {\n",
       "        vertical-align: top;\n",
       "    }\n",
       "\n",
       "    .dataframe thead th {\n",
       "        text-align: right;\n",
       "    }\n",
       "</style>\n",
       "<table border=\"1\" class=\"dataframe\">\n",
       "  <thead>\n",
       "    <tr style=\"text-align: right;\">\n",
       "      <th></th>\n",
       "      <th>Rating</th>\n",
       "      <th>Reviews</th>\n",
       "    </tr>\n",
       "  </thead>\n",
       "  <tbody>\n",
       "    <tr>\n",
       "      <th>81790</th>\n",
       "      <td>5</td>\n",
       "      <td>Great phone. Very reliable. ASUS doesn't seem ...</td>\n",
       "    </tr>\n",
       "    <tr>\n",
       "      <th>381859</th>\n",
       "      <td>3</td>\n",
       "      <td>Decent phone depending on who you get it for. ...</td>\n",
       "    </tr>\n",
       "    <tr>\n",
       "      <th>349622</th>\n",
       "      <td>4</td>\n",
       "      <td>Just got my new phone and so far, so good. It ...</td>\n",
       "    </tr>\n",
       "    <tr>\n",
       "      <th>17784</th>\n",
       "      <td>5</td>\n",
       "      <td>Absolutely wonderful!</td>\n",
       "    </tr>\n",
       "    <tr>\n",
       "      <th>412843</th>\n",
       "      <td>5</td>\n",
       "      <td>Excellent phone and excellent seller, :)</td>\n",
       "    </tr>\n",
       "    <tr>\n",
       "      <th>215832</th>\n",
       "      <td>4</td>\n",
       "      <td>Very Good Smartphone with amazing Headphone Mu...</td>\n",
       "    </tr>\n",
       "    <tr>\n",
       "      <th>369506</th>\n",
       "      <td>5</td>\n",
       "      <td>Like it</td>\n",
       "    </tr>\n",
       "    <tr>\n",
       "      <th>141606</th>\n",
       "      <td>4</td>\n",
       "      <td>What's on the box ?????</td>\n",
       "    </tr>\n",
       "    <tr>\n",
       "      <th>262942</th>\n",
       "      <td>1</td>\n",
       "      <td>Hi Everyone,I would 've given -ve rating if it...</td>\n",
       "    </tr>\n",
       "    <tr>\n",
       "      <th>22583</th>\n",
       "      <td>5</td>\n",
       "      <td>All I can say about this phone is that I am ha...</td>\n",
       "    </tr>\n",
       "  </tbody>\n",
       "</table>\n",
       "</div>"
      ],
      "text/plain": [
       "        Rating                                            Reviews\n",
       "81790        5  Great phone. Very reliable. ASUS doesn't seem ...\n",
       "381859       3  Decent phone depending on who you get it for. ...\n",
       "349622       4  Just got my new phone and so far, so good. It ...\n",
       "17784        5                              Absolutely wonderful!\n",
       "412843       5           Excellent phone and excellent seller, :)\n",
       "215832       4  Very Good Smartphone with amazing Headphone Mu...\n",
       "369506       5                                            Like it\n",
       "141606       4                            What's on the box ?????\n",
       "262942       1  Hi Everyone,I would 've given -ve rating if it...\n",
       "22583        5  All I can say about this phone is that I am ha..."
      ]
     },
     "execution_count": 20,
     "metadata": {},
     "output_type": "execute_result"
    }
   ],
   "source": [
    "df = df.drop(['Product Name', 'Brand Name','Price', 'Review Votes'], axis=1)\n",
    "df.sample(10)"
   ]
  },
  {
   "cell_type": "code",
   "execution_count": 21,
   "id": "33c291dc-5a46-484b-9f6d-e87dac10b438",
   "metadata": {},
   "outputs": [
    {
     "data": {
      "text/html": [
       "<div>\n",
       "<style scoped>\n",
       "    .dataframe tbody tr th:only-of-type {\n",
       "        vertical-align: middle;\n",
       "    }\n",
       "\n",
       "    .dataframe tbody tr th {\n",
       "        vertical-align: top;\n",
       "    }\n",
       "\n",
       "    .dataframe thead th {\n",
       "        text-align: right;\n",
       "    }\n",
       "</style>\n",
       "<table border=\"1\" class=\"dataframe\">\n",
       "  <thead>\n",
       "    <tr style=\"text-align: right;\">\n",
       "      <th></th>\n",
       "      <th>Rating</th>\n",
       "      <th>Reviews</th>\n",
       "      <th>Sentiment</th>\n",
       "    </tr>\n",
       "  </thead>\n",
       "  <tbody>\n",
       "    <tr>\n",
       "      <th>241472</th>\n",
       "      <td>4</td>\n",
       "      <td>Very good telephone. Convenient price. I used ...</td>\n",
       "      <td>1</td>\n",
       "    </tr>\n",
       "    <tr>\n",
       "      <th>275367</th>\n",
       "      <td>4</td>\n",
       "      <td>Great phone for the pricePros:great camera,pre...</td>\n",
       "      <td>1</td>\n",
       "    </tr>\n",
       "    <tr>\n",
       "      <th>259047</th>\n",
       "      <td>4</td>\n",
       "      <td>The phone feels very nice in hand. It looks fl...</td>\n",
       "      <td>1</td>\n",
       "    </tr>\n",
       "    <tr>\n",
       "      <th>101490</th>\n",
       "      <td>5</td>\n",
       "      <td>The memo feature is the best in this phone</td>\n",
       "      <td>1</td>\n",
       "    </tr>\n",
       "    <tr>\n",
       "      <th>84842</th>\n",
       "      <td>1</td>\n",
       "      <td>I need my money back, my cellphone works but a...</td>\n",
       "      <td>0</td>\n",
       "    </tr>\n",
       "    <tr>\n",
       "      <th>103359</th>\n",
       "      <td>4</td>\n",
       "      <td>This little fella haz more than what he's name...</td>\n",
       "      <td>1</td>\n",
       "    </tr>\n",
       "    <tr>\n",
       "      <th>311323</th>\n",
       "      <td>5</td>\n",
       "      <td>Thank You !</td>\n",
       "      <td>1</td>\n",
       "    </tr>\n",
       "    <tr>\n",
       "      <th>81277</th>\n",
       "      <td>5</td>\n",
       "      <td>FYI, this is a really subjective review. Anywa...</td>\n",
       "      <td>1</td>\n",
       "    </tr>\n",
       "    <tr>\n",
       "      <th>245562</th>\n",
       "      <td>5</td>\n",
       "      <td>Very nice phone, it feels high quality, gets i...</td>\n",
       "      <td>1</td>\n",
       "    </tr>\n",
       "    <tr>\n",
       "      <th>146996</th>\n",
       "      <td>3</td>\n",
       "      <td>I didn't really like it. But before I get into...</td>\n",
       "      <td>0</td>\n",
       "    </tr>\n",
       "  </tbody>\n",
       "</table>\n",
       "</div>"
      ],
      "text/plain": [
       "        Rating                                            Reviews  Sentiment\n",
       "241472       4  Very good telephone. Convenient price. I used ...          1\n",
       "275367       4  Great phone for the pricePros:great camera,pre...          1\n",
       "259047       4  The phone feels very nice in hand. It looks fl...          1\n",
       "101490       5         The memo feature is the best in this phone          1\n",
       "84842        1  I need my money back, my cellphone works but a...          0\n",
       "103359       4  This little fella haz more than what he's name...          1\n",
       "311323       5                                        Thank You !          1\n",
       "81277        5  FYI, this is a really subjective review. Anywa...          1\n",
       "245562       5  Very nice phone, it feels high quality, gets i...          1\n",
       "146996       3  I didn't really like it. But before I get into...          0"
      ]
     },
     "execution_count": 21,
     "metadata": {},
     "output_type": "execute_result"
    }
   ],
   "source": [
    "df['Sentiment'] = df['Rating'].apply(lambda x: 1 if x>=4 else 0)\n",
    "df.sample(10)"
   ]
  },
  {
   "cell_type": "code",
   "execution_count": 22,
   "id": "f3aad53f-2382-4baf-b037-6f38be82ecb1",
   "metadata": {},
   "outputs": [],
   "source": [
    "def preprocess_text(text):\n",
    "    # Remove special characters and numbers\n",
    "    text = re.sub(r'[^a-zA-Z\\s]', '', text)\n",
    "    # Lowercase the text\n",
    "    text = text.lower()\n",
    "    # Remove stopwords\n",
    "    stop_words = set(stopwords.words('english'))\n",
    "    text = ' '.join(word for word in text.split() if word not in stop_words)\n",
    "    return text\n",
    "\n",
    "# Apply preprocessing\n",
    "df['Reviews'] = df['Reviews'].apply(preprocess_text)\n",
    "\n",
    "# Split the dataset into training and testing sets\n",
    "X_train, X_test, y_train, y_test = train_test_split(\n",
    "    df['Reviews'], df['Sentiment'], test_size=0.2, random_state=42)\n",
    "\n",
    "# Convert text data to TF-IDF features\n",
    "vectorizer = TfidfVectorizer()\n",
    "X_train_tfidf = vectorizer.fit_transform(X_train)\n",
    "X_test_tfidf = vectorizer.transform(X_test)"
   ]
  },
  {
   "cell_type": "markdown",
   "id": "4e38ed09-907f-4f1f-8526-12c3bf3a02c6",
   "metadata": {},
   "source": [
    "### **Naive Bayes Model**"
   ]
  },
  {
   "cell_type": "code",
   "execution_count": 23,
   "id": "e48f7757-7b7e-40be-9650-755a2df5bc51",
   "metadata": {},
   "outputs": [],
   "source": [
    "# Initialize the Multinomial Naive Bayes model\n",
    "nb_model = MultinomialNB()\n",
    "\n",
    "# Fit the model to the training data using the TF-IDF feature representation\n",
    "# X_train_tfidf contains the features (TF-IDF vectors) of the training set,\n",
    "# while y_train contains the corresponding sentiment labels (target values).\n",
    "nb_model.fit(X_train_tfidf, y_train)\n",
    "\n",
    "# Use the trained model to make predictions on the test data\n",
    "# X_test_tfidf contains the TF-IDF vectors for the test set,\n",
    "# and nb_predictions will hold the predicted sentiment labels.\n",
    "nb_predictions = nb_model.predict(X_test_tfidf)"
   ]
  },
  {
   "cell_type": "markdown",
   "id": "32ed244a-67dd-4111-b658-d09e5a689bde",
   "metadata": {},
   "source": [
    "### **Model Evaluation of Naive Bayes**"
   ]
  },
  {
   "cell_type": "code",
   "execution_count": 24,
   "id": "2596b103-671f-4a0a-9608-920308d2ab82",
   "metadata": {},
   "outputs": [
    {
     "name": "stdout",
     "output_type": "stream",
     "text": [
      "Accuracy: 0.89\n",
      "Confusion Matrix:\n",
      " [[18228  7624]\n",
      " [ 1740 55125]]\n"
     ]
    },
    {
     "data": {
      "image/png": "[encoded data removed]",
      "text/plain": [
       "<Figure size 800x600 with 2 Axes>"
      ]
     },
     "metadata": {},
     "output_type": "display_data"
    },
    {
     "name": "stdout",
     "output_type": "stream",
     "text": [
      "Classification Report:\n",
      "               precision    recall  f1-score   support\n",
      "\n",
      "           0       0.91      0.71      0.80     25852\n",
      "           1       0.88      0.97      0.92     56865\n",
      "\n",
      "    accuracy                           0.89     82717\n",
      "   macro avg       0.90      0.84      0.86     82717\n",
      "weighted avg       0.89      0.89      0.88     82717\n",
      "\n"
     ]
    }
   ],
   "source": [
    "# Calculate accuracy\n",
    "accuracy = accuracy_score(y_test, nb_predictions)\n",
    "print(f\"Accuracy: {accuracy:.2f}\")\n",
    "\n",
    "# Generate confusion matrix\n",
    "conf_matrix = confusion_matrix(y_test, nb_predictions)\n",
    "print(\"Confusion Matrix:\\n\", conf_matrix)\n",
    "\n",
    "# Create a heatmap for the confusion matrix\n",
    "plt.figure(figsize=(8, 6))\n",
    "sns.heatmap(conf_matrix, annot=True, fmt='d', cmap='Blues',\n",
    "            xticklabels=['Negative', 'Positive'], \n",
    "            yticklabels=['Negative', 'Positive'])\n",
    "plt.ylabel('Actual')\n",
    "plt.xlabel('Predicted')\n",
    "plt.title('Confusion Matrix')\n",
    "plt.show()\n",
    "\n",
    "# Generate classification report for detailed metrics\n",
    "report = classification_report(y_test, nb_predictions)\n",
    "print(\"Classification Report:\\n\", report)"
   ]
  },
  {
   "cell_type": "markdown",
   "id": "69869572-38bb-46f0-8561-2e6d21fa3821",
   "metadata": {},
   "source": [
    "### **Logistic Regression**"
   ]
  },
  {
   "cell_type": "code",
   "execution_count": 25,
   "id": "0e6ed855-bb98-4ae1-b76d-83cb862da4a4",
   "metadata": {},
   "outputs": [],
   "source": [
    "# Initialize the Logistic Regression model\n",
    "lr_model = LogisticRegression()\n",
    "\n",
    "# Fit the model to the training data using the TF-IDF feature representation\n",
    "# X_train_tfidf contains the features (TF-IDF vectors) of the training set,\n",
    "# while y_train contains the corresponding sentiment labels (target values).\n",
    "lr_model.fit(X_train_tfidf, y_train)\n",
    "\n",
    "# Use the trained model to make predictions on the test data\n",
    "# X_test_tfidf contains the TF-IDF vectors for the test set,\n",
    "# and lr_predictions will hold the predicted sentiment labels.\n",
    "lr_predictions = lr_model.predict(X_test_tfidf)"
   ]
  },
  {
   "cell_type": "markdown",
   "id": "b9ae7d1c-1ed2-4fb2-8f4c-de790d048cbd",
   "metadata": {},
   "source": [
    "### **Model Evaluation of Logistic Regression**"
   ]
  },
  {
   "cell_type": "code",
   "execution_count": 26,
   "id": "4a26df50-10c5-403f-bcaf-7f3cc1a87af8",
   "metadata": {},
   "outputs": [
    {
     "name": "stdout",
     "output_type": "stream",
     "text": [
      "Accuracy: 0.92\n",
      "Confusion Matrix:\n",
      " [[21664  4188]\n",
      " [ 2790 54075]]\n"
     ]
    },
    {
     "data": {
      "image/png": "[encoded data removed]",
      "text/plain": [
       "<Figure size 800x600 with 2 Axes>"
      ]
     },
     "metadata": {},
     "output_type": "display_data"
    },
    {
     "name": "stdout",
     "output_type": "stream",
     "text": [
      "Classification Report:\n",
      "               precision    recall  f1-score   support\n",
      "\n",
      "           0       0.89      0.84      0.86     25852\n",
      "           1       0.93      0.95      0.94     56865\n",
      "\n",
      "    accuracy                           0.92     82717\n",
      "   macro avg       0.91      0.89      0.90     82717\n",
      "weighted avg       0.91      0.92      0.91     82717\n",
      "\n"
     ]
    }
   ],
   "source": [
    "# Calculate accuracy\n",
    "accuracy = accuracy_score(y_test, lr_predictions)\n",
    "print(f\"Accuracy: {accuracy:.2f}\")\n",
    "\n",
    "# Generate confusion matrix\n",
    "conf_matrix = confusion_matrix(y_test, lr_predictions)\n",
    "print(\"Confusion Matrix:\\n\", conf_matrix)\n",
    "\n",
    "# Create a heatmap for the confusion matrix\n",
    "plt.figure(figsize=(8, 6))\n",
    "sns.heatmap(conf_matrix, annot=True, fmt='d', cmap='Blues',\n",
    "           xticklabels=['Negative', 'Positive'], \n",
    "            yticklabels=['Negative', 'Positive'])\n",
    "plt.ylabel('Actual')\n",
    "plt.xlabel('Predicted')\n",
    "plt.title('Confusion Matrix')\n",
    "plt.show()\n",
    "\n",
    "# Generate classification report for detailed metrics\n",
    "report = classification_report(y_test, lr_predictions)\n",
    "print(\"Classification Report:\\n\", report)"
   ]
  },
  {
   "cell_type": "markdown",
   "id": "39df0a76-3921-42b8-a049-9b18ab2f3dc6",
   "metadata": {},
   "source": [
    "## **Using the trained models to predict sentiments in new product reviwes**\n",
    "We can use the above trained Naive Bayes and Logistic Regression models to predict the sentiments in new product reviews."
   ]
  },
  {
   "cell_type": "code",
   "execution_count": 27,
   "id": "3fd417be-b1f7-486b-8bd6-ed5bd44c71ee",
   "metadata": {},
   "outputs": [
    {
     "data": {
      "text/html": [
       "<div>\n",
       "<style scoped>\n",
       "    .dataframe tbody tr th:only-of-type {\n",
       "        vertical-align: middle;\n",
       "    }\n",
       "\n",
       "    .dataframe tbody tr th {\n",
       "        vertical-align: top;\n",
       "    }\n",
       "\n",
       "    .dataframe thead th {\n",
       "        text-align: right;\n",
       "    }\n",
       "</style>\n",
       "<table border=\"1\" class=\"dataframe\">\n",
       "  <thead>\n",
       "    <tr style=\"text-align: right;\">\n",
       "      <th></th>\n",
       "      <th>Review</th>\n",
       "      <th>Naive_Bayes_Prediction</th>\n",
       "      <th>Logistic_Regression_Prediction</th>\n",
       "    </tr>\n",
       "  </thead>\n",
       "  <tbody>\n",
       "    <tr>\n",
       "      <th>0</th>\n",
       "      <td>I absolutely loved this product!</td>\n",
       "      <td>1</td>\n",
       "      <td>1</td>\n",
       "    </tr>\n",
       "    <tr>\n",
       "      <th>1</th>\n",
       "      <td>This is the worst purchase I’ve ever made.</td>\n",
       "      <td>0</td>\n",
       "      <td>0</td>\n",
       "    </tr>\n",
       "    <tr>\n",
       "      <th>2</th>\n",
       "      <td>It’s okay, not what I expected.</td>\n",
       "      <td>1</td>\n",
       "      <td>0</td>\n",
       "    </tr>\n",
       "  </tbody>\n",
       "</table>\n",
       "</div>"
      ],
      "text/plain": [
       "                                       Review  Naive_Bayes_Prediction  \\\n",
       "0            I absolutely loved this product!                       1   \n",
       "1  This is the worst purchase I’ve ever made.                       0   \n",
       "2             It’s okay, not what I expected.                       1   \n",
       "\n",
       "   Logistic_Regression_Prediction  \n",
       "0                               1  \n",
       "1                               0  \n",
       "2                               0  "
      ]
     },
     "execution_count": 27,
     "metadata": {},
     "output_type": "execute_result"
    }
   ],
   "source": [
    "# New reviews\n",
    "new_reviews = [\n",
    "    \"I absolutely loved this product!\",\n",
    "    \"This is the worst purchase I’ve ever made.\",\n",
    "    \"It’s okay, not what I expected.\"\n",
    "]\n",
    "# Preprocess the new reviews\n",
    "processed_reviews = [preprocess_text(review) for review in new_reviews] \n",
    "# Convert to TF-IDF\n",
    "new_reviews_tfidf = vectorizer.transform(processed_reviews)\n",
    "# Make predictions\n",
    "nb_predictions = nb_model.predict(new_reviews_tfidf)\n",
    "lr_predictions = lr_model.predict(new_reviews_tfidf)\n",
    "\n",
    "output_df = pd.DataFrame({\n",
    "    'Review': new_reviews,\n",
    "    'Naive_Bayes_Prediction': nb_predictions,\n",
    "    'Logistic_Regression_Prediction': lr_predictions\n",
    "})\n",
    "output_df"
   ]
  },
  {
   "cell_type": "code",
   "execution_count": null,
   "id": "c3a60966-44c4-4f31-8a88-72dd69b99c39",
   "metadata": {},
   "outputs": [],
   "source": []
  }
 ],
 "metadata": {
  "kernelspec": {
   "display_name": "Python 3 (ipykernel)",
   "language": "python",
   "name": "python3"
  },
  "language_info": {
   "codemirror_mode": {
    "name": "ipython",
    "version": 3
   },
   "file_extension": ".py",
   "mimetype": "text/x-python",
   "name": "python",
   "nbconvert_exporter": "python",
   "pygments_lexer": "ipython3",
   "version": "3.12.1"
  }
 },
 "nbformat": 4,
 "nbformat_minor": 5
}
